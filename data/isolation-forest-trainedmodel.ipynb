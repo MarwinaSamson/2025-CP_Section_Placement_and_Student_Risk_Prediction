{
 "cells": [
  {
   "cell_type": "code",
   "execution_count": 1,
   "id": "507773e3",
   "metadata": {},
   "outputs": [
    {
     "name": "stdout",
     "output_type": "stream",
     "text": [
      "Dataset preview:\n",
      "  student id  dost_exam_result  filipino grade  English grade  \\\n",
      "0  student 1                 0              89             90   \n",
      "1  student 2                 0              89             79   \n",
      "2  student 3                 0              84             90   \n",
      "3  student 4                 0              87             90   \n",
      "4  student 5                 0              82             90   \n",
      "\n",
      "   mathematics grade  science grade  araling panlipunan grade  \\\n",
      "0                 78             86                        87   \n",
      "1                 89             81                        79   \n",
      "2                 79             90                        88   \n",
      "3                 79             87                        79   \n",
      "4                 82             75                        80   \n",
      "\n",
      "   Edukasyon sa pagpapakatao grade  \\\n",
      "0                               83   \n",
      "1                               82   \n",
      "2                               90   \n",
      "3                               83   \n",
      "4                               84   \n",
      "\n",
      "   Edukasyong panglipunan at pangkabuhayan grade  MAPEH grade  Average grade  \\\n",
      "0                                             90           75             75   \n",
      "1                                             85           76             82   \n",
      "2                                             84           84             83   \n",
      "3                                             90           77             80   \n",
      "4                                             83           81             81   \n",
      "\n",
      "   hetero  top 5  ste  spfl  sptve  \n",
      "0       1      0    0     0      0  \n",
      "1       1      0    0     0      0  \n",
      "2       1      0    0     0      0  \n",
      "3       1      0    0     0      0  \n",
      "4       1      0    0     0      0  \n",
      "\n",
      "Dataset info:\n",
      "<class 'pandas.core.frame.DataFrame'>\n",
      "RangeIndex: 680 entries, 0 to 679\n",
      "Data columns (total 16 columns):\n",
      " #   Column                                         Non-Null Count  Dtype \n",
      "---  ------                                         --------------  ----- \n",
      " 0   student id                                     680 non-null    object\n",
      " 1   dost_exam_result                               680 non-null    int64 \n",
      " 2   filipino grade                                 680 non-null    int64 \n",
      " 3   English grade                                  680 non-null    int64 \n",
      " 4   mathematics grade                              680 non-null    int64 \n",
      " 5   science grade                                  680 non-null    int64 \n",
      " 6   araling panlipunan grade                       680 non-null    int64 \n",
      " 7   Edukasyon sa pagpapakatao grade                680 non-null    int64 \n",
      " 8   Edukasyong panglipunan at pangkabuhayan grade  680 non-null    int64 \n",
      " 9   MAPEH grade                                    680 non-null    int64 \n",
      " 10  Average grade                                  680 non-null    int64 \n",
      " 11  hetero                                         680 non-null    int64 \n",
      " 12  top 5                                          680 non-null    int64 \n",
      " 13  ste                                            680 non-null    int64 \n",
      " 14  spfl                                           680 non-null    int64 \n",
      " 15  sptve                                          680 non-null    int64 \n",
      "dtypes: int64(15), object(1)\n",
      "memory usage: 85.1+ KB\n"
     ]
    }
   ],
   "source": [
    "# Import necessary libraries for data handling and modeling\n",
    "import pandas as pd\n",
    "import numpy as np\n",
    "from sklearn.ensemble import IsolationForest\n",
    "from sklearn.model_selection import train_test_split\n",
    "from sklearn.metrics import classification_report, confusion_matrix\n",
    "\n",
    "# Load the dataset\n",
    "file_path = 'data_program_recommendation - Copy (tryy1).csv'  # Change this if your file is elsewhere\n",
    "df = pd.read_csv(file_path)\n",
    "\n",
    "# Display first 5 rows to understand the data structure\n",
    "print(\"Dataset preview:\")\n",
    "print(df.head())\n",
    "\n",
    "# Display info to check for missing values and data types\n",
    "print(\"\\nDataset info:\")\n",
    "df.info()\n",
    "\n"
   ]
  },
  {
   "cell_type": "code",
   "execution_count": 2,
   "id": "9c142bfe",
   "metadata": {},
   "outputs": [
    {
     "name": "stdout",
     "output_type": "stream",
     "text": [
      "\n",
      "Missing values in features:\n",
      "dost_exam_result                                 0\n",
      "filipino grade                                   0\n",
      "English grade                                    0\n",
      "mathematics grade                                0\n",
      "science grade                                    0\n",
      "araling panlipunan grade                         0\n",
      "Edukasyon sa pagpapakatao grade                  0\n",
      "Edukasyong panglipunan at pangkabuhayan grade    0\n",
      "MAPEH grade                                      0\n",
      "Average grade                                    0\n",
      "dtype: int64\n"
     ]
    }
   ],
   "source": [
    "# Select feature columns (same as used in your previous model)\n",
    "feature_columns = ['dost_exam_result', 'filipino grade', 'English grade', 'mathematics grade',\n",
    "                   'science grade', 'araling panlipunan grade', 'Edukasyon sa pagpapakatao grade',\n",
    "                   'Edukasyong panglipunan at pangkabuhayan grade', 'MAPEH grade', 'Average grade']\n",
    "\n",
    "X = df[feature_columns]\n",
    "\n",
    "# Check for missing values in features\n",
    "print(\"\\nMissing values in features:\")\n",
    "print(X.isnull().sum())\n"
   ]
  },
  {
   "cell_type": "code",
   "execution_count": 3,
   "id": "408d659b",
   "metadata": {},
   "outputs": [
    {
     "name": "stdout",
     "output_type": "stream",
     "text": [
      "\n",
      "Training set size: 544 samples\n",
      "Testing set size: 136 samples\n"
     ]
    }
   ],
   "source": [
    "# Split data into training (80%) and testing (20%) sets\n",
    "# Since Isolation Forest is unsupervised, we only use X (features)\n",
    "X_train, X_test = train_test_split(X, test_size=0.2, random_state=42)\n",
    "\n",
    "print(f\"\\nTraining set size: {X_train.shape[0]} samples\")\n",
    "print(f\"Testing set size: {X_test.shape[0]} samples\")\n"
   ]
  },
  {
   "cell_type": "code",
   "execution_count": 4,
   "id": "87566d3f",
   "metadata": {},
   "outputs": [
    {
     "name": "stdout",
     "output_type": "stream",
     "text": [
      "\n",
      "Training set size: 544 samples\n",
      "Testing set size: 136 samples\n"
     ]
    }
   ],
   "source": [
    "# Split data into training (80%) and testing (20%) sets\n",
    "# Since Isolation Forest is unsupervised, we only use X (features)\n",
    "X_train, X_test = train_test_split(X, test_size=0.2, random_state=42)\n",
    "\n",
    "print(f\"\\nTraining set size: {X_train.shape[0]} samples\")\n",
    "print(f\"Testing set size: {X_test.shape[0]} samples\")\n"
   ]
  },
  {
   "cell_type": "code",
   "execution_count": 5,
   "id": "5790e9ef",
   "metadata": {},
   "outputs": [
    {
     "name": "stdout",
     "output_type": "stream",
     "text": [
      "\n",
      "Isolation Forest model trained successfully.\n"
     ]
    }
   ],
   "source": [
    "# Initialize the Isolation Forest model\n",
    "# You can tune parameters like n_estimators (number of trees), contamination (expected anomaly fraction)\n",
    "iso_forest = IsolationForest(n_estimators=100, contamination=0.05, random_state=42)\n",
    "\n",
    "# Train the model on the training data\n",
    "iso_forest.fit(X_train)\n",
    "\n",
    "print(\"\\nIsolation Forest model trained successfully.\")\n"
   ]
  },
  {
   "cell_type": "code",
   "execution_count": 6,
   "id": "85d229ed",
   "metadata": {},
   "outputs": [
    {
     "name": "stdout",
     "output_type": "stream",
     "text": [
      "\n",
      "Sample predictions on test data (1=anomaly, 0=normal):\n",
      "[0 0 0 0 1 0 0 0 0 0 0 1 0 0 0 0 0 1 0 0]\n"
     ]
    }
   ],
   "source": [
    "# Predict anomalies on the test set\n",
    "# The predict method returns 1 for normal, -1 for anomaly\n",
    "test_predictions = iso_forest.predict(X_test)\n",
    "\n",
    "# Convert predictions to 0 (normal) and 1 (anomaly) for clarity\n",
    "test_predictions_binary = np.where(test_predictions == -1, 1, 0)\n",
    "\n",
    "print(\"\\nSample predictions on test data (1=anomaly, 0=normal):\")\n",
    "print(test_predictions_binary[:20])\n"
   ]
  },
  {
   "cell_type": "code",
   "execution_count": 7,
   "id": "afdf0448",
   "metadata": {},
   "outputs": [
    {
     "name": "stdout",
     "output_type": "stream",
     "text": [
      "\n",
      "No ground truth anomaly labels found in dataset. Skipping evaluation.\n"
     ]
    }
   ],
   "source": [
    "# Check if anomaly label exists\n",
    "if 'anomaly_label' in df.columns:\n",
    "    # Extract true labels for test set indices\n",
    "    y = df['anomaly_label']\n",
    "    _, y_test = train_test_split(y, test_size=0.2, random_state=42)\n",
    "\n",
    "    print(\"\\nClassification Report on Test Data:\")\n",
    "    print(classification_report(y_test, test_predictions_binary))\n",
    "\n",
    "    print(\"\\nConfusion Matrix:\")\n",
    "    print(confusion_matrix(y_test, test_predictions_binary))\n",
    "else:\n",
    "    print(\"\\nNo ground truth anomaly labels found in dataset. Skipping evaluation.\")\n"
   ]
  },
  {
   "cell_type": "code",
   "execution_count": 8,
   "id": "3650f4b2",
   "metadata": {},
   "outputs": [
    {
     "name": "stdout",
     "output_type": "stream",
     "text": [
      "\n",
      "Anomalies detected in test set:\n",
      "     dost_exam_result  filipino grade  English grade  mathematics grade  \\\n",
      "101                 1              89             75                 85   \n",
      "208                 0              88             75                 76   \n",
      "55                  0              88             87                 87   \n",
      "76                  0              83             88                 81   \n",
      "90                  0              84             86                 75   \n",
      "164                 1              88             85                 96   \n",
      "109                 1              90             75                 82   \n",
      "65                  0              82             89                 82   \n",
      "145                 1              97             88                 78   \n",
      "108                 1              82             93                 97   \n",
      "133                 1              99             95                 89   \n",
      "148                 1              84             96                 97   \n",
      "110                 1              99             76                 97   \n",
      "\n",
      "     science grade  araling panlipunan grade  Edukasyon sa pagpapakatao grade  \\\n",
      "101             80                        78                               86   \n",
      "208             76                        95                               94   \n",
      "55              76                        85                               75   \n",
      "76              75                        83                               76   \n",
      "90              75                        80                               78   \n",
      "164             92                        81                               76   \n",
      "109             79                        99                               92   \n",
      "65              87                        75                               76   \n",
      "145             97                        88                               82   \n",
      "108             87                        87                               76   \n",
      "133             77                        80                               81   \n",
      "148             99                        98                               79   \n",
      "110             91                        79                               92   \n",
      "\n",
      "     Edukasyong panglipunan at pangkabuhayan grade  MAPEH grade  \\\n",
      "101                                             93           80   \n",
      "208                                             85           78   \n",
      "55                                              77           75   \n",
      "76                                              75           88   \n",
      "90                                              76           81   \n",
      "164                                             81           83   \n",
      "109                                             89           95   \n",
      "65                                              75           81   \n",
      "145                                             80           78   \n",
      "108                                             87           81   \n",
      "133                                             80           81   \n",
      "148                                             76           87   \n",
      "110                                             80           92   \n",
      "\n",
      "     Average grade  anomaly  \n",
      "101             88        1  \n",
      "208             86        1  \n",
      "55              76        1  \n",
      "76              79        1  \n",
      "90              76        1  \n",
      "164             89        1  \n",
      "109             85        1  \n",
      "65              75        1  \n",
      "145             88        1  \n",
      "108             87        1  \n",
      "133             88        1  \n",
      "148             88        1  \n",
      "110             86        1  \n"
     ]
    }
   ],
   "source": [
    "# Add predictions to test set DataFrame for inspection\n",
    "X_test_with_pred = X_test.copy()\n",
    "X_test_with_pred['anomaly'] = test_predictions_binary\n",
    "\n",
    "# Show anomalies detected\n",
    "print(\"\\nAnomalies detected in test set:\")\n",
    "print(X_test_with_pred[X_test_with_pred['anomaly'] == 1])\n"
   ]
  }
 ],
 "metadata": {
  "kernelspec": {
   "display_name": "Python 3",
   "language": "python",
   "name": "python3"
  },
  "language_info": {
   "codemirror_mode": {
    "name": "ipython",
    "version": 3
   },
   "file_extension": ".py",
   "mimetype": "text/x-python",
   "name": "python",
   "nbconvert_exporter": "python",
   "pygments_lexer": "ipython3",
   "version": "3.13.5"
  }
 },
 "nbformat": 4,
 "nbformat_minor": 5
}
